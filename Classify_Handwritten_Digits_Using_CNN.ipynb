{
  "nbformat": 4,
  "nbformat_minor": 0,
  "metadata": {
    "colab": {
      "name": "Classify Handwritten Digits Using CNN.ipynb",
      "provenance": [],
      "collapsed_sections": [],
      "authorship_tag": "ABX9TyPgJ1gsdoNqmXr+8zPJgShc",
      "include_colab_link": true
    },
    "kernelspec": {
      "name": "python3",
      "display_name": "Python 3"
    },
    "accelerator": "GPU"
  },
  "cells": [
    {
      "cell_type": "markdown",
      "metadata": {
        "id": "view-in-github",
        "colab_type": "text"
      },
      "source": [
        "<a href=\"https://colab.research.google.com/github/shyammarjit/Deep-Learning/blob/main/Classify_Handwritten_Digits_Using_CNN.ipynb\" target=\"_parent\"><img src=\"https://colab.research.google.com/assets/colab-badge.svg\" alt=\"Open In Colab\"/></a>"
      ]
    },
    {
      "cell_type": "code",
      "metadata": {
        "colab": {
          "base_uri": "https://localhost:8080/",
          "height": 471
        },
        "id": "23YpN5bTdNDX",
        "outputId": "6db0f946-115d-4402-ba76-3f640baefa95"
      },
      "source": [
        "# deeper cnn model for mnist\r\n",
        "from numpy import mean\r\n",
        "from numpy import std\r\n",
        "from matplotlib import pyplot\r\n",
        "from sklearn.model_selection import KFold\r\n",
        "from keras.datasets import mnist\r\n",
        "from keras.utils import to_categorical\r\n",
        "from keras.models import Sequential\r\n",
        "from keras.layers import Conv2D\r\n",
        "from keras.layers import MaxPooling2D\r\n",
        "from keras.layers import Dense\r\n",
        "from keras.layers import Flatten\r\n",
        "from keras.optimizers import SGD\r\n",
        " \r\n",
        "# load train and test dataset\r\n",
        "def load_dataset():\r\n",
        "\t# load dataset\r\n",
        "\t(trainX, trainY), (testX, testY) = mnist.load_data()\r\n",
        "\t# reshape dataset to have a single channel\r\n",
        "\ttrainX = trainX.reshape((trainX.shape[0], 28, 28, 1))\r\n",
        "\ttestX = testX.reshape((testX.shape[0], 28, 28, 1))\r\n",
        "\t# one hot encode target values\r\n",
        "\ttrainY = to_categorical(trainY)\r\n",
        "\ttestY = to_categorical(testY)\r\n",
        "\treturn trainX, trainY, testX, testY\r\n",
        " \r\n",
        "# scale pixels\r\n",
        "def prep_pixels(train, test):\r\n",
        "\t# convert from integers to floats\r\n",
        "\ttrain_norm = train.astype('float32')\r\n",
        "\ttest_norm = test.astype('float32')\r\n",
        "\t# normalize to range 0-1\r\n",
        "\ttrain_norm = train_norm / 255.0\r\n",
        "\ttest_norm = test_norm / 255.0\r\n",
        "\t# return normalized images\r\n",
        "\treturn train_norm, test_norm\r\n",
        " \r\n",
        "# define cnn model\r\n",
        "def define_model():\r\n",
        "\tmodel = Sequential()\r\n",
        "\tmodel.add(Conv2D(32, (3, 3), activation='relu', kernel_initializer='he_uniform', input_shape=(28, 28, 1)))\r\n",
        "\tmodel.add(MaxPooling2D((2, 2)))\r\n",
        "\tmodel.add(Conv2D(64, (3, 3), activation='relu', kernel_initializer='he_uniform'))\r\n",
        "\tmodel.add(Conv2D(64, (3, 3), activation='relu', kernel_initializer='he_uniform'))\r\n",
        "\tmodel.add(MaxPooling2D((2, 2)))\r\n",
        "\tmodel.add(Flatten())\r\n",
        "\tmodel.add(Dense(100, activation='relu', kernel_initializer='he_uniform'))\r\n",
        "\tmodel.add(Dense(10, activation='softmax'))\r\n",
        "\t# compile model\r\n",
        "\topt = SGD(lr=0.01, momentum=0.9)\r\n",
        "\tmodel.compile(optimizer=opt, loss='categorical_crossentropy', metrics=['accuracy'])\r\n",
        "\treturn model\r\n",
        " \r\n",
        "# evaluate a model using k-fold cross-validation\r\n",
        "def evaluate_model(dataX, dataY, n_folds=5):\r\n",
        "\tscores, histories = list(), list()\r\n",
        "\t# prepare cross validation\r\n",
        "\tkfold = KFold(n_folds, shuffle=True, random_state=1)\r\n",
        "\t# enumerate splits\r\n",
        "\tfor train_ix, test_ix in kfold.split(dataX):\r\n",
        "\t\t# define model\r\n",
        "\t\tmodel = define_model()\r\n",
        "\t\t# select rows for train and test\r\n",
        "\t\ttrainX, trainY, testX, testY = dataX[train_ix], dataY[train_ix], dataX[test_ix], dataY[test_ix]\r\n",
        "\t\t# fit model\r\n",
        "\t\thistory = model.fit(trainX, trainY, epochs=10, batch_size=32, validation_data=(testX, testY), verbose=0)\r\n",
        "\t\t# evaluate model\r\n",
        "\t\t_, acc = model.evaluate(testX, testY, verbose=0)\r\n",
        "\t\tprint('> %.3f' % (acc * 100.0))\r\n",
        "\t\t# stores scores\r\n",
        "\t\tscores.append(acc)\r\n",
        "\t\thistories.append(history)\r\n",
        "\treturn scores, histories\r\n",
        " \r\n",
        "# plot diagnostic learning curves\r\n",
        "def summarize_diagnostics(histories):\r\n",
        "\tfor i in range(len(histories)):\r\n",
        "\t\t# plot loss\r\n",
        "\t\tpyplot.subplot(2, 1, 1)\r\n",
        "\t\tpyplot.title('Cross Entropy Loss')\r\n",
        "\t\tpyplot.plot(histories[i].history['loss'], color='blue', label='train')\r\n",
        "\t\tpyplot.plot(histories[i].history['val_loss'], color='orange', label='test')\r\n",
        "\t\t# plot accuracy\r\n",
        "\t\tpyplot.subplot(2, 1, 2)\r\n",
        "\t\tpyplot.title('Classification Accuracy')\r\n",
        "\t\tpyplot.plot(histories[i].history['accuracy'], color='blue', label='train')\r\n",
        "\t\tpyplot.plot(histories[i].history['val_accuracy'], color='orange', label='test')\r\n",
        "\tpyplot.show()\r\n",
        "# summarize model performance\r\n",
        "def summarize_performance(scores):\r\n",
        "\t# print summary\r\n",
        "\tprint('Accuracy: mean=%.3f std=%.3f, n=%d' % (mean(scores)*100, std(scores)*100, len(scores)))\r\n",
        "\t# box and whisker plots of results\r\n",
        "\t#pyplot.boxplot(scores)\r\n",
        "\t#pyplot.show()\r\n",
        " \r\n",
        "# run the test harness for evaluating a model\r\n",
        "def run_test_harness():\r\n",
        "\t# load dataset\r\n",
        "\ttrainX, trainY, testX, testY = load_dataset()\r\n",
        "\t# prepare pixel data\r\n",
        "\ttrainX, testX = prep_pixels(trainX, testX)\r\n",
        "\t# evaluate model\r\n",
        "\tscores, histories = evaluate_model(trainX, trainY)\r\n",
        "\t# learning curves\r\n",
        "\tsummarize_diagnostics(histories)\r\n",
        "\t# summarize estimated performance\r\n",
        "\tsummarize_performance(scores)\r\n",
        " \r\n",
        "# entry point, run the test harness\r\n",
        "run_test_harness()"
      ],
      "execution_count": 1,
      "outputs": [
        {
          "output_type": "stream",
          "text": [
            "Downloading data from https://storage.googleapis.com/tensorflow/tf-keras-datasets/mnist.npz\n",
            "11493376/11490434 [==============================] - 0s 0us/step\n",
            "> 99.075\n",
            "> 99.167\n",
            "> 98.992\n",
            "> 99.233\n",
            "> 99.058\n"
          ],
          "name": "stdout"
        },
        {
          "output_type": "stream",
          "text": [
            "/usr/local/lib/python3.6/dist-packages/ipykernel_launcher.py:79: MatplotlibDeprecationWarning: Adding an axes using the same arguments as a previous axes currently reuses the earlier instance.  In a future version, a new instance will always be created and returned.  Meanwhile, this warning can be suppressed, and the future behavior ensured, by passing a unique label to each axes instance.\n",
            "/usr/local/lib/python3.6/dist-packages/ipykernel_launcher.py:84: MatplotlibDeprecationWarning: Adding an axes using the same arguments as a previous axes currently reuses the earlier instance.  In a future version, a new instance will always be created and returned.  Meanwhile, this warning can be suppressed, and the future behavior ensured, by passing a unique label to each axes instance.\n"
          ],
          "name": "stderr"
        },
        {
          "output_type": "display_data",
          "data": {
            "image/png": "[encoded data removed]",
            "text/plain": [
              "<Figure size 432x288 with 2 Axes>"
            ]
          },
          "metadata": {
            "tags": [],
            "needs_background": "light"
          }
        },
        {
          "output_type": "stream",
          "text": [
            "Accuracy: mean=99.105 std=0.085, n=5\n"
          ],
          "name": "stdout"
        }
      ]
    }
  ]
}